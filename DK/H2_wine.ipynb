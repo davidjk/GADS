{
 "metadata": {
  "name": ""
 },
 "nbformat": 3,
 "nbformat_minor": 0,
 "worksheets": [
  {
   "cells": [
    {
     "cell_type": "markdown",
     "metadata": {},
     "source": [
      "URL https://github.com/dzorlu/GADS/wiki/Homework-2#a-cross-validation-and-knn\n",
      "\n",
      "__a) Cross Validation and kNN__\n",
      "\n",
      "The wine dataset is in the data folder. To learn about the dataset, see the UCI repository page:\n",
      "\n",
      "http://archive.ics.uci.edu/ml/datasets/Wine\n",
      "\n",
      "i) Fit a kNN algorithm. Perform cross-validation to pick the best value for k.\n",
      "\n",
      "ii) Perform cross-validation to pick the best model between logistic regression and kNN. Does the answer change when you use a different CV technique?\n",
      "\n",
      "__b) Bias-Variance Framework__\n",
      "\n",
      "The example aims to the illustrate bias-variance framework. The ultimate goal is to achieve a respectable Eout. Hence, the model selection should be a function of availability of the data.\n",
      "\n",
      "Consider a case where target function is given by sin( \u03c0 x ) where the input distribution is uniform on [ -1, 1 ]. Assume that the training set has two examples and the learning algorithm tries to minize the mean squared error.\n",
      "\n",
      "Assume that we have two learning models consisting of all hypothesis in the form of:\n",
      "\n",
      "h(x) = ax + b\n",
      "\n",
      "h(x) = b\n",
      "\n",
      "Run 10,000 random trials and fit a line on each run.\n",
      "\n",
      "i) What is the average hypothesis for each model?\n",
      "\n",
      "ii) Report the bias and variance for both models. Which model generalizes better out-of-sample?\n",
      "\n",
      "__Hint(s):__\n",
      "\n",
      "i) Below the graphs on the left illustrate sample trials for each model. The charts on the right depict average hypotesis and variance of the models.\n",
      "\n",
      "ii) MSE can be defined as:\n",
      "\n",
      "def mse(y,h):\n",
      "    return(np.mean(np.square(y-h)))\n",
      "\n",
      "where y's are the target function variables and h's are your predictions based on your hypothesis over [-1, 1]."
     ]
    },
    {
     "cell_type": "code",
     "collapsed": false,
     "input": [
      "import pandas as pd\n",
      "import numpy as np\n",
      "import pylab as pl\n",
      "\n",
      "from sklearn import cross_validation as cv\n",
      "from sklearn.metrics import confusion_matrix\n",
      "from sklearn.neighbors import KNeighborsClassifier as knn\n",
      "from sklearn.linear_model import LogisticRegression as LR\n",
      "\n",
      "# for 'height' deprecationwarning -- https://github.com/pydata/pandas/issues/4413\n",
      "import warnings\n",
      "warnings.filterwarnings(\"ignore\", category=DeprecationWarning)\n",
      "pd.__version__\n",
      "\n",
      "FILE = '../data/wine.txt'"
     ],
     "language": "python",
     "metadata": {},
     "outputs": [],
     "prompt_number": 35
    },
    {
     "cell_type": "code",
     "collapsed": false,
     "input": [
      "def prepare_wine(FILE):\n",
      "    '''Get data from txt file, put into dataframe, and extract (features, label).'''\n",
      "    \n",
      "    # read the file into dataframe and add column headers\n",
      "    wine = pd.read_csv('../data/wine.txt', header=None)\n",
      "    wine.columns = ['cultivar', 'alcohol', 'malic', 'ash', 'alcalinity', 'magnesium', \\\n",
      "                    'phenols', 'flavanoids','n_phenols', 'proanth', 'color', 'hue', \\\n",
      "                    'OD280_OD315', 'proline']\n",
      "    \n",
      "    # split data into features and label; drop na's\n",
      "    wine = wine.dropna()\n",
      "    features = wine.loc[:,'alcohol':'proline']\n",
      "    label = wine.loc[:,'cultivar']\n",
      "    \n",
      "    return features, label"
     ],
     "language": "python",
     "metadata": {},
     "outputs": [],
     "prompt_number": 36
    },
    {
     "cell_type": "code",
     "collapsed": false,
     "input": [
      "#wine = get_wine(FILE)"
     ],
     "language": "python",
     "metadata": {},
     "outputs": [],
     "prompt_number": 37
    },
    {
     "cell_type": "code",
     "collapsed": false,
     "input": [
      "#print wine.loc[:,'alcohol':'proline'].head()"
     ],
     "language": "python",
     "metadata": {},
     "outputs": [
      {
       "output_type": "stream",
       "stream": "stdout",
       "text": [
        "   alcohol  malic   ash  alcalinity  magnesium  phenols  flavanoids  \\\n",
        "0    14.23   1.71  2.43        15.6        127     2.80        3.06   \n",
        "1    13.20   1.78  2.14        11.2        100     2.65        2.76   \n",
        "2    13.16   2.36  2.67        18.6        101     2.80        3.24   \n",
        "3    14.37   1.95  2.50        16.8        113     3.85        3.49   \n",
        "4    13.24   2.59  2.87        21.0        118     2.80        2.69   \n",
        "\n",
        "   n_phenols  proanth  color   hue  OD280_OD315  proline  \n",
        "0       0.28     2.29   5.64  1.04         3.92     1065  \n",
        "1       0.26     1.28   4.38  1.05         3.40     1050  \n",
        "2       0.30     2.81   5.68  1.03         3.17     1185  \n",
        "3       0.24     2.18   7.80  0.86         3.45     1480  \n",
        "4       0.39     1.82   4.32  1.04         2.93      735  \n"
       ]
      }
     ],
     "prompt_number": 41
    },
    {
     "cell_type": "code",
     "collapsed": false,
     "input": [
      "#range(1,12,2)"
     ],
     "language": "python",
     "metadata": {},
     "outputs": [
      {
       "metadata": {},
       "output_type": "pyout",
       "prompt_number": 45,
       "text": [
        "[1, 3, 5, 7, 9, 11]"
       ]
      }
     ],
     "prompt_number": 45
    },
    {
     "cell_type": "code",
     "collapsed": false,
     "input": [
      "def fit_knn(*data):\n",
      "    '''Fit data set with knn algo and return results. Function expects as arg tuple (features, labels)'''\n",
      "    \n",
      "    "
     ],
     "language": "python",
     "metadata": {},
     "outputs": []
    }
   ],
   "metadata": {}
  }
 ]
}