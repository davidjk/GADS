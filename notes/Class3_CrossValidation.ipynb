{
 "metadata": {
  "name": ""
 },
 "nbformat": 3,
 "nbformat_minor": 0,
 "worksheets": [
  {
   "cells": [
    {
     "cell_type": "markdown",
     "metadata": {},
     "source": [
      "__Class 2__\n",
      "\n",
      "SGD classifier (vs max likelihood) better for parallel(?) logistic regression. Sklearn offers sgd.\n",
      "\n",
      "Logistic regression review: X = pts ahead at half time, want to predict probability of winning.\n",
      "\n",
      "Logistic regression creates a 'linear decision boundary' through the space. Introducing idea of 'thresholding.' Basically snapping to a step function.\n",
      "\n",
      "How to compare different classifiers? Out of sample prediction error is the bottom line, or how well do they predict.\n",
      "\n"
     ]
    },
    {
     "cell_type": "code",
     "collapsed": false,
     "input": [],
     "language": "python",
     "metadata": {},
     "outputs": []
    }
   ],
   "metadata": {}
  }
 ]
}