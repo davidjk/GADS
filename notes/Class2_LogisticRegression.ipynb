{
 "metadata": {
  "name": ""
 },
 "nbformat": 3,
 "nbformat_minor": 0,
 "worksheets": [
  {
   "cells": [
    {
     "cell_type": "markdown",
     "metadata": {},
     "source": [
      "__NOTES__\n",
      "\n",
      "Linear regression. y = alpha + beta(x) + error (must be homoscedastic)\n",
      "\n",
      "Logistic regression - supervised, categorical (classification) problems\n",
      "\n",
      "Use logistic function to map y to unit interval. Non-linear transform.\n",
      "\n",
      "Logit function takes logistic function and returns a linear model to you. (basically reverses process).\n",
      "\n",
      "Logit function also called log-odds function.\n",
      "\n",
      "Error term follows a Bernoulli distribution (same distribution as repeated coin tosses -- binomial)\n",
      "\n",
      "Odds = ratio of probabilities\n",
      "\n",
      "Logistic regression book, Hosmer & Lemeshow, Applied Logistic Regression\n",
      "\n",
      "Questions about exercise:\n",
      "\n",
      "What if we wanted to rank by quintile? How would we label the dataset (since there are more than 2 options)\n"
     ]
    },
    {
     "cell_type": "code",
     "collapsed": false,
     "input": [
      "cd /Users/davidkim/cloned_repos/GADS/code"
     ],
     "language": "python",
     "metadata": {},
     "outputs": [
      {
       "output_type": "stream",
       "stream": "stdout",
       "text": [
        "/Users/davidkim/cloned_repos/GADS/code\n"
       ]
      }
     ],
     "prompt_number": 4
    },
    {
     "cell_type": "code",
     "collapsed": false,
     "input": [
      "%less logistic.py"
     ],
     "language": "python",
     "metadata": {},
     "outputs": [],
     "prompt_number": 7
    },
    {
     "cell_type": "code",
     "collapsed": false,
     "input": [
      "ls"
     ],
     "language": "python",
     "metadata": {},
     "outputs": [
      {
       "output_type": "stream",
       "stream": "stdout",
       "text": [
        "citibike_parse.py  logistic.py\r\n"
       ]
      }
     ],
     "prompt_number": 8
    },
    {
     "cell_type": "code",
     "collapsed": false,
     "input": [
      "cd ../data"
     ],
     "language": "python",
     "metadata": {},
     "outputs": [
      {
       "output_type": "stream",
       "stream": "stdout",
       "text": [
        "/Users/davidkim/cloned_repos/GADS/data\n"
       ]
      }
     ],
     "prompt_number": 9
    },
    {
     "cell_type": "code",
     "collapsed": false,
     "input": [
      "ls"
     ],
     "language": "python",
     "metadata": {},
     "outputs": [
      {
       "output_type": "stream",
       "stream": "stdout",
       "text": [
        "beer.txt                 test-heart-disease.csv   train-heart-disease.csv\r\n",
        "citibike.csv             test-labels.csv\r\n",
        "citibike.json            toy.data\r\n"
       ]
      }
     ],
     "prompt_number": 10
    },
    {
     "cell_type": "code",
     "collapsed": false,
     "input": [
      "%less beer.txt"
     ],
     "language": "python",
     "metadata": {},
     "outputs": [],
     "prompt_number": 11
    },
    {
     "cell_type": "code",
     "collapsed": false,
     "input": [
      "import pandas as pd\n",
      "from sklearn.linear_model import LogisticRegression as LR"
     ],
     "language": "python",
     "metadata": {},
     "outputs": [],
     "prompt_number": 23
    },
    {
     "cell_type": "code",
     "collapsed": false,
     "input": [
      "beer = pd.read_csv('beer.txt', delimiter='\\t')"
     ],
     "language": "python",
     "metadata": {},
     "outputs": [],
     "prompt_number": 16
    },
    {
     "cell_type": "code",
     "collapsed": false,
     "input": [
      "beer.head()"
     ],
     "language": "python",
     "metadata": {},
     "outputs": [
      {
       "html": [
        "<div style=\"max-height:1000px;max-width:1500px;overflow:auto;\">\n",
        "<table border=\"1\" class=\"dataframe\">\n",
        "  <thead>\n",
        "    <tr style=\"text-align: right;\">\n",
        "      <th></th>\n",
        "      <th>Rank</th>\n",
        "      <th>Name</th>\n",
        "      <th>Brewery</th>\n",
        "      <th>Type</th>\n",
        "      <th>ABV</th>\n",
        "      <th>WR</th>\n",
        "      <th>Reviews</th>\n",
        "    </tr>\n",
        "  </thead>\n",
        "  <tbody>\n",
        "    <tr>\n",
        "      <th>0</th>\n",
        "      <td> 1</td>\n",
        "      <td>                            Heady Topper</td>\n",
        "      <td>                 The Alchemist</td>\n",
        "      <td>   Imperial IPA</td>\n",
        "      <td>  8.0</td>\n",
        "      <td> 4.69</td>\n",
        "      <td> 3146</td>\n",
        "    </tr>\n",
        "    <tr>\n",
        "      <th>1</th>\n",
        "      <td> 2</td>\n",
        "      <td>                       Pliny The Younger</td>\n",
        "      <td> Russian River Brewing Company</td>\n",
        "      <td>   Imperial IPA</td>\n",
        "      <td> 11.0</td>\n",
        "      <td> 4.65</td>\n",
        "      <td> 1572</td>\n",
        "    </tr>\n",
        "    <tr>\n",
        "      <th>2</th>\n",
        "      <td> 3</td>\n",
        "      <td>                         Pliny The Elder</td>\n",
        "      <td> Russian River Brewing Company</td>\n",
        "      <td>   Imperial IPA</td>\n",
        "      <td>  8.0</td>\n",
        "      <td> 4.64</td>\n",
        "      <td> 6129</td>\n",
        "    </tr>\n",
        "    <tr>\n",
        "      <th>3</th>\n",
        "      <td> 4</td>\n",
        "      <td>             Founders CBS Imperial Stout</td>\n",
        "      <td>      Founders Brewing Company</td>\n",
        "      <td> Imperial Stout</td>\n",
        "      <td> 10.6</td>\n",
        "      <td> 4.63</td>\n",
        "      <td> 2026</td>\n",
        "    </tr>\n",
        "    <tr>\n",
        "      <th>4</th>\n",
        "      <td> 5</td>\n",
        "      <td> Founders KBS (Kentucky Breakfast Stout)</td>\n",
        "      <td>      Founders Brewing Company</td>\n",
        "      <td> Imperial Stout</td>\n",
        "      <td> 11.2</td>\n",
        "      <td> 4.61</td>\n",
        "      <td> 4714</td>\n",
        "    </tr>\n",
        "  </tbody>\n",
        "</table>\n",
        "</div>"
       ],
       "metadata": {},
       "output_type": "pyout",
       "prompt_number": 17,
       "text": [
        "   Rank                                     Name                        Brewery            Type   ABV    WR  Reviews\n",
        "0     1                             Heady Topper                  The Alchemist    Imperial IPA   8.0  4.69     3146\n",
        "1     2                        Pliny The Younger  Russian River Brewing Company    Imperial IPA  11.0  4.65     1572\n",
        "2     3                          Pliny The Elder  Russian River Brewing Company    Imperial IPA   8.0  4.64     6129\n",
        "3     4              Founders CBS Imperial Stout       Founders Brewing Company  Imperial Stout  10.6  4.63     2026\n",
        "4     5  Founders KBS (Kentucky Breakfast Stout)       Founders Brewing Company  Imperial Stout  11.2  4.61     4714"
       ]
      }
     ],
     "prompt_number": 17
    },
    {
     "cell_type": "code",
     "collapsed": false,
     "input": [
      "beer.describe()"
     ],
     "language": "python",
     "metadata": {},
     "outputs": [
      {
       "html": [
        "<div style=\"max-height:1000px;max-width:1500px;overflow:auto;\">\n",
        "<table border=\"1\" class=\"dataframe\">\n",
        "  <thead>\n",
        "    <tr style=\"text-align: right;\">\n",
        "      <th></th>\n",
        "      <th>Rank</th>\n",
        "      <th>ABV</th>\n",
        "      <th>WR</th>\n",
        "      <th>Reviews</th>\n",
        "    </tr>\n",
        "  </thead>\n",
        "  <tbody>\n",
        "    <tr>\n",
        "      <th>count</th>\n",
        "      <td> 250.000000</td>\n",
        "      <td> 248.000000</td>\n",
        "      <td> 250.000000</td>\n",
        "      <td>  250.000000</td>\n",
        "    </tr>\n",
        "    <tr>\n",
        "      <th>mean</th>\n",
        "      <td> 125.500000</td>\n",
        "      <td>   9.177823</td>\n",
        "      <td>   4.313600</td>\n",
        "      <td> 1504.832000</td>\n",
        "    </tr>\n",
        "    <tr>\n",
        "      <th>std</th>\n",
        "      <td>  72.312977</td>\n",
        "      <td>   3.178589</td>\n",
        "      <td>   0.105228</td>\n",
        "      <td> 1440.856384</td>\n",
        "    </tr>\n",
        "    <tr>\n",
        "      <th>min</th>\n",
        "      <td>   1.000000</td>\n",
        "      <td>   4.000000</td>\n",
        "      <td>   4.200000</td>\n",
        "      <td>  107.000000</td>\n",
        "    </tr>\n",
        "    <tr>\n",
        "      <th>25%</th>\n",
        "      <td>  63.250000</td>\n",
        "      <td>   7.000000</td>\n",
        "      <td>   4.230000</td>\n",
        "      <td>  447.750000</td>\n",
        "    </tr>\n",
        "    <tr>\n",
        "      <th>50%</th>\n",
        "      <td> 125.500000</td>\n",
        "      <td>   9.000000</td>\n",
        "      <td>   4.280000</td>\n",
        "      <td>  935.000000</td>\n",
        "    </tr>\n",
        "    <tr>\n",
        "      <th>75%</th>\n",
        "      <td> 187.750000</td>\n",
        "      <td>  10.500000</td>\n",
        "      <td>   4.360000</td>\n",
        "      <td> 2162.000000</td>\n",
        "    </tr>\n",
        "    <tr>\n",
        "      <th>max</th>\n",
        "      <td> 250.000000</td>\n",
        "      <td>  29.000000</td>\n",
        "      <td>   4.690000</td>\n",
        "      <td> 7320.000000</td>\n",
        "    </tr>\n",
        "  </tbody>\n",
        "</table>\n",
        "</div>"
       ],
       "metadata": {},
       "output_type": "pyout",
       "prompt_number": 18,
       "text": [
        "             Rank         ABV          WR      Reviews\n",
        "count  250.000000  248.000000  250.000000   250.000000\n",
        "mean   125.500000    9.177823    4.313600  1504.832000\n",
        "std     72.312977    3.178589    0.105228  1440.856384\n",
        "min      1.000000    4.000000    4.200000   107.000000\n",
        "25%     63.250000    7.000000    4.230000   447.750000\n",
        "50%    125.500000    9.000000    4.280000   935.000000\n",
        "75%    187.750000   10.500000    4.360000  2162.000000\n",
        "max    250.000000   29.000000    4.690000  7320.000000"
       ]
      }
     ],
     "prompt_number": 18
    },
    {
     "cell_type": "code",
     "collapsed": false,
     "input": [
      "beer.columns"
     ],
     "language": "python",
     "metadata": {},
     "outputs": [
      {
       "metadata": {},
       "output_type": "pyout",
       "prompt_number": 19,
       "text": [
        "Index([u'Rank', u'Name', u'Brewery', u'Type', u'ABV', u'WR', u'Reviews'], dtype=object)"
       ]
      }
     ],
     "prompt_number": 19
    },
    {
     "cell_type": "code",
     "collapsed": false,
     "input": [
      "beer = beer.dropna()"
     ],
     "language": "python",
     "metadata": {},
     "outputs": [],
     "prompt_number": 22
    },
    {
     "cell_type": "code",
     "collapsed": false,
     "input": [
      "# use Rank as target variable\n",
      "model = LR()\n"
     ],
     "language": "python",
     "metadata": {},
     "outputs": [],
     "prompt_number": 24
    },
    {
     "cell_type": "code",
     "collapsed": false,
     "input": [],
     "language": "python",
     "metadata": {},
     "outputs": [],
     "prompt_number": 26
    },
    {
     "cell_type": "code",
     "collapsed": false,
     "input": [],
     "language": "python",
     "metadata": {},
     "outputs": []
    }
   ],
   "metadata": {}
  }
 ]
}